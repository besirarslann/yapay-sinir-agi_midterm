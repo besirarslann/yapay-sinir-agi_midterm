{
 "cells": [
  {
   "cell_type": "code",
   "execution_count": 1,
   "id": "df06b65f-77ad-43bb-a026-044cdcbcb78b",
   "metadata": {},
   "outputs": [],
   "source": [
    "import numpy as np\n",
    "from sklearn.preprocessing import StandardScaler\n",
    "from sklearn.model_selection import train_test_split\n",
    "from tensorflow.keras.utils import to_categorical\n",
    "from tensorflow.keras.datasets import cifar10\n",
    "from tensorflow.keras.models import Sequential\n",
    "from tensorflow.keras.layers import Dense\n",
    "from tensorflow.keras.optimizers import Adam\n",
    "from sklearn.cluster import KMeans\n",
    "from sklearn.metrics import precision_score, recall_score, f1_score, accuracy_score\n",
    "import tensorflow as tf\n",
    "\n",
    "# CIFAR-10 veri setini yükle\n",
    "(x_train, y_train), (x_test, y_test) = cifar10.load_data()\n",
    "\n",
    "# Veriyi düzleştir\n",
    "x_train_flat = x_train.reshape(-1, 32 * 32 * 3)\n",
    "x_test_flat = x_test.reshape(-1, 32 * 32 * 3)\n",
    "\n",
    "# StandardScaler ile standartlaştırma\n",
    "scaler = StandardScaler()\n",
    "x_train_scaled = scaler.fit_transform(x_train_flat)\n",
    "x_test_scaled = scaler.transform(x_test_flat)\n",
    "\n",
    "# Eğitim ve doğrulama veri setini ayır\n",
    "x_train, x_val, y_train, y_val = train_test_split(x_train_scaled, y_train, test_size=0.2, random_state=42)\n",
    "\n",
    "# Sınıf etiketlerini kategorik hale getir\n",
    "y_train = to_categorical(y_train, num_classes=10)\n",
    "y_val = to_categorical(y_val, num_classes=10)\n",
    "y_test = to_categorical(y_test, num_classes=10)"
   ]
  },
  {
   "cell_type": "markdown",
   "id": "ff06485a-6874-4061-908b-3e24b3e2622c",
   "metadata": {},
   "source": [
    "# RBF ile gridsearch model eğitimi"
   ]
  },
  {
   "cell_type": "code",
   "execution_count": 2,
   "id": "e3f4d3e2-49fe-401e-bac0-52eadc57823a",
   "metadata": {},
   "outputs": [
    {
     "name": "stdout",
     "output_type": "stream",
     "text": [
      "x_train'in tipi: <class 'numpy.ndarray'>, Şekli: (40000, 3072)\n"
     ]
    }
   ],
   "source": [
    "# x_train'in biçimini kontrol et\n",
    "print(f\"x_train'in tipi: {type(x_train)}, Şekli: {x_train.shape}\")"
   ]
  },
  {
   "cell_type": "code",
   "execution_count": 8,
   "id": "9c864998-54bf-4aa2-b390-a1d3d5e0a8ca",
   "metadata": {},
   "outputs": [
    {
     "data": {
      "text/plain": [
       "0.9977307"
      ]
     },
     "execution_count": 8,
     "metadata": {},
     "output_type": "execute_result"
    }
   ],
   "source": [
    "x_train.var()"
   ]
  },
  {
   "cell_type": "code",
   "execution_count": null,
   "id": "60ce4aba-b21c-4f3b-82a1-5458663862ff",
   "metadata": {},
   "outputs": [],
   "source": []
  },
  {
   "cell_type": "code",
   "execution_count": 4,
   "id": "e9731cae-8a83-49b9-a722-e96cf2fbd4c5",
   "metadata": {},
   "outputs": [
    {
     "name": "stdout",
     "output_type": "stream",
     "text": [
      "WARNING:tensorflow:From C:\\Users\\besir\\anaconda3\\Lib\\site-packages\\keras\\src\\backend\\tensorflow\\core.py:204: The name tf.placeholder is deprecated. Please use tf.compat.v1.placeholder instead.\n",
      "\n",
      "\u001b[1m313/313\u001b[0m \u001b[32m━━━━━━━━━━━━━━━━━━━━\u001b[0m\u001b[37m\u001b[0m \u001b[1m2s\u001b[0m 6ms/step\n",
      "Params: 50, Gamma: 0.1 -> Acc: 0.0933, Precision: 0.0093, Recall: 0.1000, F1: 0.0171\n"
     ]
    },
    {
     "name": "stderr",
     "output_type": "stream",
     "text": [
      "C:\\Users\\besir\\anaconda3\\Lib\\site-packages\\sklearn\\metrics\\_classification.py:1531: UndefinedMetricWarning: Precision is ill-defined and being set to 0.0 in labels with no predicted samples. Use `zero_division` parameter to control this behavior.\n",
      "  _warn_prf(average, modifier, f\"{metric.capitalize()} is\", len(result))\n"
     ]
    },
    {
     "name": "stdout",
     "output_type": "stream",
     "text": [
      "\u001b[1m313/313\u001b[0m \u001b[32m━━━━━━━━━━━━━━━━━━━━\u001b[0m\u001b[37m\u001b[0m \u001b[1m2s\u001b[0m 7ms/step\n",
      "Params: 50, Gamma: 0.01 -> Acc: 0.1157, Precision: 0.1141, Recall: 0.1188, F1: 0.0447\n"
     ]
    },
    {
     "name": "stderr",
     "output_type": "stream",
     "text": [
      "C:\\Users\\besir\\anaconda3\\Lib\\site-packages\\sklearn\\metrics\\_classification.py:1531: UndefinedMetricWarning: Precision is ill-defined and being set to 0.0 in labels with no predicted samples. Use `zero_division` parameter to control this behavior.\n",
      "  _warn_prf(average, modifier, f\"{metric.capitalize()} is\", len(result))\n"
     ]
    },
    {
     "name": "stdout",
     "output_type": "stream",
     "text": [
      "\u001b[1m313/313\u001b[0m \u001b[32m━━━━━━━━━━━━━━━━━━━━\u001b[0m\u001b[37m\u001b[0m \u001b[1m3s\u001b[0m 10ms/step\n",
      "Params: 100, Gamma: 0.1 -> Acc: 0.0933, Precision: 0.0093, Recall: 0.1000, F1: 0.0171\n"
     ]
    },
    {
     "name": "stderr",
     "output_type": "stream",
     "text": [
      "C:\\Users\\besir\\anaconda3\\Lib\\site-packages\\sklearn\\metrics\\_classification.py:1531: UndefinedMetricWarning: Precision is ill-defined and being set to 0.0 in labels with no predicted samples. Use `zero_division` parameter to control this behavior.\n",
      "  _warn_prf(average, modifier, f\"{metric.capitalize()} is\", len(result))\n"
     ]
    },
    {
     "name": "stdout",
     "output_type": "stream",
     "text": [
      "\u001b[1m313/313\u001b[0m \u001b[32m━━━━━━━━━━━━━━━━━━━━\u001b[0m\u001b[37m\u001b[0m \u001b[1m3s\u001b[0m 10ms/step\n",
      "Params: 100, Gamma: 0.01 -> Acc: 0.1144, Precision: 0.1452, Recall: 0.1174, F1: 0.0452\n"
     ]
    },
    {
     "name": "stderr",
     "output_type": "stream",
     "text": [
      "C:\\Users\\besir\\anaconda3\\Lib\\site-packages\\sklearn\\metrics\\_classification.py:1531: UndefinedMetricWarning: Precision is ill-defined and being set to 0.0 in labels with no predicted samples. Use `zero_division` parameter to control this behavior.\n",
      "  _warn_prf(average, modifier, f\"{metric.capitalize()} is\", len(result))\n"
     ]
    },
    {
     "name": "stdout",
     "output_type": "stream",
     "text": [
      "\u001b[1m313/313\u001b[0m \u001b[32m━━━━━━━━━━━━━━━━━━━━\u001b[0m\u001b[37m\u001b[0m \u001b[1m6s\u001b[0m 19ms/step\n",
      "Params: 200, Gamma: 0.1 -> Acc: 0.0933, Precision: 0.0093, Recall: 0.1000, F1: 0.0171\n"
     ]
    },
    {
     "name": "stderr",
     "output_type": "stream",
     "text": [
      "C:\\Users\\besir\\anaconda3\\Lib\\site-packages\\sklearn\\metrics\\_classification.py:1531: UndefinedMetricWarning: Precision is ill-defined and being set to 0.0 in labels with no predicted samples. Use `zero_division` parameter to control this behavior.\n",
      "  _warn_prf(average, modifier, f\"{metric.capitalize()} is\", len(result))\n"
     ]
    },
    {
     "name": "stdout",
     "output_type": "stream",
     "text": [
      "\u001b[1m313/313\u001b[0m \u001b[32m━━━━━━━━━━━━━━━━━━━━\u001b[0m\u001b[37m\u001b[0m \u001b[1m6s\u001b[0m 18ms/step\n",
      "Params: 200, Gamma: 0.01 -> Acc: 0.1158, Precision: 0.1448, Recall: 0.1186, F1: 0.0492\n",
      "RBF için en iyi parametreler: (200, 0.01) -> Acc: 0.1158\n"
     ]
    },
    {
     "name": "stderr",
     "output_type": "stream",
     "text": [
      "C:\\Users\\besir\\anaconda3\\Lib\\site-packages\\sklearn\\metrics\\_classification.py:1531: UndefinedMetricWarning: Precision is ill-defined and being set to 0.0 in labels with no predicted samples. Use `zero_division` parameter to control this behavior.\n",
      "  _warn_prf(average, modifier, f\"{metric.capitalize()} is\", len(result))\n"
     ]
    }
   ],
   "source": [
    "# RBF özel katmanını tanımla\n",
    "class RBFLayer(tf.keras.layers.Layer):\n",
    "    def __init__(self, num_centers, gamma):\n",
    "        super(RBFLayer, self).__init__()\n",
    "        self.num_centers = num_centers\n",
    "        self.gamma = gamma\n",
    "\n",
    "    def build(self, input_shape):\n",
    "        self.centers = self.add_weight(\n",
    "            shape=(self.num_centers, input_shape[-1]),\n",
    "            initializer='random_normal',\n",
    "            trainable=True,\n",
    "            name=\"centers\"\n",
    "        )\n",
    "\n",
    "    def call(self, inputs):\n",
    "        diff = tf.expand_dims(inputs, 1) - self.centers\n",
    "        return tf.exp(-self.gamma * tf.reduce_sum(tf.square(diff), axis=-1))\n",
    "\n",
    "# RBF modelini tanımlayan fonksiyon\n",
    "def create_rbf_model(num_centers, gamma):\n",
    "    model = Sequential([\n",
    "        RBFLayer(num_centers=num_centers, gamma=gamma),\n",
    "        Dense(10, activation='softmax')  # Çıkış katmanı (10 sınıf için)\n",
    "    ])\n",
    "    model.compile(optimizer=Adam(learning_rate=0.001), loss='categorical_crossentropy', metrics=['accuracy'])\n",
    "    return model\n",
    "\n",
    "# Grid Search parametreleri\n",
    "rbf_params = {\n",
    "    'num_centers': [50, 100, 200],\n",
    "    'gamma': [0.1, 0.01]\n",
    "}\n",
    "\n",
    "best_accuracy = 0\n",
    "best_params = None\n",
    "best_rbf_model = None  # En iyi modeli saklamak için değişken oluşturduk\n",
    "\n",
    "# Parametre kombinasyonlarını dene\n",
    "for num_centers in rbf_params['num_centers']:\n",
    "    for gamma in rbf_params['gamma']:\n",
    "        # KMeans ile merkezleri belirlemeden önce veri tipini kontrol et\n",
    "        if not isinstance(x_train, np.ndarray):\n",
    "            x_train = np.array(x_train, dtype=np.float32)\n",
    "        x_train = x_train.astype(np.float32)\n",
    "\n",
    "        # KMeans ile merkezleri belirle\n",
    "        kmeans = KMeans(n_clusters=num_centers, random_state=42)\n",
    "        try:\n",
    "            kmeans.fit(x_train)\n",
    "        except ValueError as e:\n",
    "            raise ValueError(f\"KMeans hata verdi: {e}\")\n",
    "\n",
    "        centers = kmeans.cluster_centers_\n",
    "\n",
    "        # Modeli oluştur ve eğit\n",
    "        model = create_rbf_model(num_centers, gamma)\n",
    "        history = model.fit(x_train, y_train, validation_data=(x_val, y_val),\n",
    "                             epochs=10, batch_size=64, verbose=0)\n",
    "\n",
    "        # Doğrulama setinde tahmin yap\n",
    "        y_pred = np.argmax(model.predict(x_val), axis=1)\n",
    "        y_true = np.argmax(y_val, axis=1)\n",
    "\n",
    "        # Performans metriklerini hesapla\n",
    "        precision = precision_score(y_true, y_pred, average='macro')\n",
    "        recall = recall_score(y_true, y_pred, average='macro')\n",
    "        f1 = f1_score(y_true, y_pred, average='macro')\n",
    "        acc = accuracy_score(y_true, y_pred)\n",
    "\n",
    "        print(f\"Params: {num_centers}, Gamma: {gamma} -> Acc: {acc:.4f}, Precision: {precision:.4f}, Recall: {recall:.4f}, F1: {f1:.4f}\")\n",
    "        \n",
    "        # En iyi modeli kaydet\n",
    "        if acc > best_accuracy:\n",
    "            best_accuracy = acc\n",
    "            best_params = (num_centers, gamma)\n",
    "            best_rbf_model = model\n",
    "\n",
    "print(f\"RBF için en iyi parametreler: {best_params} -> Acc: {best_accuracy:.4f}\")"
   ]
  },
  {
   "cell_type": "code",
   "execution_count": 6,
   "id": "78bc5df4-a42d-4f53-9499-83714342b4c3",
   "metadata": {},
   "outputs": [
    {
     "name": "stdout",
     "output_type": "stream",
     "text": [
      "\u001b[1m313/313\u001b[0m \u001b[32m━━━━━━━━━━━━━━━━━━━━\u001b[0m\u001b[37m\u001b[0m \u001b[1m6s\u001b[0m 19ms/step\n",
      "\n",
      "RBF Modeli - Sınıflandırma Raporu\n",
      "              precision    recall  f1-score   support\n",
      "\n",
      "           0       0.10      0.02      0.03      1000\n",
      "           1       0.11      1.00      0.19      1000\n",
      "           2       0.39      0.05      0.09      1000\n",
      "           3       0.11      0.00      0.01      1000\n",
      "           4       0.36      0.12      0.18      1000\n",
      "           5       0.00      0.00      0.00      1000\n",
      "           6       0.00      0.00      0.00      1000\n",
      "           7       0.00      0.00      0.00      1000\n",
      "           8       0.78      0.01      0.01      1000\n",
      "           9       0.00      0.00      0.00      1000\n",
      "\n",
      "    accuracy                           0.12     10000\n",
      "   macro avg       0.18      0.12      0.05     10000\n",
      "weighted avg       0.18      0.12      0.05     10000\n",
      "\n"
     ]
    },
    {
     "name": "stderr",
     "output_type": "stream",
     "text": [
      "C:\\Users\\besir\\anaconda3\\Lib\\site-packages\\sklearn\\metrics\\_classification.py:1531: UndefinedMetricWarning: Precision is ill-defined and being set to 0.0 in labels with no predicted samples. Use `zero_division` parameter to control this behavior.\n",
      "  _warn_prf(average, modifier, f\"{metric.capitalize()} is\", len(result))\n",
      "C:\\Users\\besir\\anaconda3\\Lib\\site-packages\\sklearn\\metrics\\_classification.py:1531: UndefinedMetricWarning: Precision is ill-defined and being set to 0.0 in labels with no predicted samples. Use `zero_division` parameter to control this behavior.\n",
      "  _warn_prf(average, modifier, f\"{metric.capitalize()} is\", len(result))\n",
      "C:\\Users\\besir\\anaconda3\\Lib\\site-packages\\sklearn\\metrics\\_classification.py:1531: UndefinedMetricWarning: Precision is ill-defined and being set to 0.0 in labels with no predicted samples. Use `zero_division` parameter to control this behavior.\n",
      "  _warn_prf(average, modifier, f\"{metric.capitalize()} is\", len(result))\n"
     ]
    },
    {
     "data": {
      "image/png": "[encoded data removed]",
      "text/plain": [
       "<Figure size 1000x800 with 2 Axes>"
      ]
     },
     "metadata": {},
     "output_type": "display_data"
    }
   ],
   "source": [
    "from sklearn.metrics import confusion_matrix, ConfusionMatrixDisplay, classification_report\n",
    "import seaborn as sns\n",
    "import matplotlib.pyplot as plt\n",
    "\n",
    "# Confusion Matrix'i çizdirme fonksiyonu\n",
    "def plot_confusion_matrix(y_true, y_pred, title=\"Confusion Matrix\"):\n",
    "    cm = confusion_matrix(y_true, y_pred)\n",
    "    labels = range(10)  # CIFAR-10 sınıf sayısı\n",
    "    plt.figure(figsize=(10, 8))\n",
    "    sns.heatmap(cm, annot=True, fmt='d', cmap='Blues', xticklabels=labels, yticklabels=labels)\n",
    "    plt.title(title)\n",
    "    plt.xlabel(\"Predicted Label\")\n",
    "    plt.ylabel(\"True Label\")\n",
    "    plt.show()\n",
    "\n",
    "# 2. RBF Modeli için en iyi sonucu elde eden modelin tahminlerini alın\n",
    "rbf_y_pred = np.argmax(best_rbf_model.predict(x_test_scaled), axis=1)\n",
    "rbf_y_true = np.argmax(y_test, axis=1)\n",
    "\n",
    "print(\"\\nRBF Modeli - Sınıflandırma Raporu\")\n",
    "print(classification_report(rbf_y_true, rbf_y_pred))\n",
    "\n",
    "plot_confusion_matrix(rbf_y_true, rbf_y_pred, title=\"RBF Confusion Matrix\")"
   ]
  },
  {
   "cell_type": "code",
   "execution_count": null,
   "id": "7cae74ad-ebf1-467c-a18b-ee30edeb5cff",
   "metadata": {},
   "outputs": [],
   "source": []
  }
 ],
 "metadata": {
  "kernelspec": {
   "display_name": "Python 3 (ipykernel)",
   "language": "python",
   "name": "python3"
  },
  "language_info": {
   "codemirror_mode": {
    "name": "ipython",
    "version": 3
   },
   "file_extension": ".py",
   "mimetype": "text/x-python",
   "name": "python",
   "nbconvert_exporter": "python",
   "pygments_lexer": "ipython3",
   "version": "3.11.5"
  }
 },
 "nbformat": 4,
 "nbformat_minor": 5
}
